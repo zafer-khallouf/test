{
 "cells": [
  {
   "cell_type": "markdown",
   "id": "00e978ea-8b1c-42bc-bd9d-9cf04312b53a",
   "metadata": {},
   "source": [
    "# Data Science Tools and Ecosystem"
   ]
  },
  {
   "cell_type": "markdown",
   "id": "4758fdc8-5b48-4273-ba17-c89314fded52",
   "metadata": {},
   "source": [
    "In this notebook, Data Science Tools and Ecosystem are summarized."
   ]
  },
  {
   "cell_type": "markdown",
   "id": "bef493f6-5690-429e-a399-a185644c46f7",
   "metadata": {
    "tags": []
   },
   "source": [
    "## $Objectives$\n",
    "####  . List popular languages for Data Science.\n",
    "####  . list of data science tools."
   ]
  },
  {
   "cell_type": "markdown",
   "id": "9cf6ab13-921d-4ab7-95bc-99645c084292",
   "metadata": {},
   "source": [
    "Some of the popular languages that Data Scientists use are:"
   ]
  },
  {
   "cell_type": "markdown",
   "id": "ed4c2ee3-3dd1-4a71-af64-55643764e6fe",
   "metadata": {},
   "source": [
    "|Languages|\n",
    "|----|\n",
    "|1- Python.|\n",
    "|2- Java.|\n",
    "|3- R.|"
   ]
  },
  {
   "cell_type": "markdown",
   "id": "318d2431-d462-4eb4-95fa-c5abdc342ffe",
   "metadata": {},
   "source": [
    "Some of the commonly used libraries used by Data Scientists include:"
   ]
  },
  {
   "cell_type": "markdown",
   "id": "56e53a1c-15f4-4551-b713-0da3a98efec8",
   "metadata": {},
   "source": [
    "|Libraries|\n",
    "|----|\n",
    "|1- pytorch.|\n",
    "|2- tensorflow.|\n",
    "|3- pandas.|\n",
    "|4- numpy.|\n",
    "|5- sympy.|"
   ]
  },
  {
   "cell_type": "markdown",
   "id": "958a8aa6-7708-4087-8c78-51f56304d566",
   "metadata": {},
   "source": [
    "|Data Science Tools|\n",
    "|----|\n",
    "|Jupyter lab|\n",
    "|watson studio|\n",
    "|spss|"
   ]
  },
  {
   "cell_type": "markdown",
   "id": "0db3c0bc-d47c-41b4-be23-829637dc398a",
   "metadata": {},
   "source": [
    "### Below are a few examples of evaluating arithmetic expressions in Python"
   ]
  },
  {
   "cell_type": "markdown",
   "id": "56ba6a7b-37cb-4b77-946d-d3c8f9aed370",
   "metadata": {},
   "source": [
    "|arithmatic|\n",
    "|----|\n",
    "|+|\n",
    "|* |"
   ]
  },
  {
   "cell_type": "code",
   "execution_count": 6,
   "id": "531835b0-2f8e-49a5-a580-116d2eab9a45",
   "metadata": {},
   "outputs": [
    {
     "data": {
      "text/plain": [
       "17"
      ]
     },
     "execution_count": 6,
     "metadata": {},
     "output_type": "execute_result"
    }
   ],
   "source": [
    "#This a simple arithmetic expression to mutiply then add integers\n",
    "(3*4)+5"
   ]
  },
  {
   "cell_type": "code",
   "execution_count": 5,
   "id": "5e5d6ec5-282c-4e98-9bc8-6b4dbc0701d5",
   "metadata": {},
   "outputs": [
    {
     "data": {
      "text/plain": [
       "3.3333333333333335"
      ]
     },
     "execution_count": 5,
     "metadata": {},
     "output_type": "execute_result"
    }
   ],
   "source": [
    "#This will convert 200 minutes to hours by diving by 60.\n",
    "hours = 200 / 60\n",
    "hours"
   ]
  },
  {
   "cell_type": "markdown",
   "id": "ed8bf9de-12d9-4cc1-8e72-649b7121d075",
   "metadata": {},
   "source": [
    "## Author\n",
    "$ Zafer$"
   ]
  },
  {
   "cell_type": "code",
   "execution_count": null,
   "id": "1d6bccd5-8656-4242-a28e-04d297c9643a",
   "metadata": {},
   "outputs": [],
   "source": []
  }
 ],
 "metadata": {
  "kernelspec": {
   "display_name": "Python",
   "language": "python",
   "name": "conda-env-python-py"
  },
  "language_info": {
   "codemirror_mode": {
    "name": "ipython",
    "version": 3
   },
   "file_extension": ".py",
   "mimetype": "text/x-python",
   "name": "python",
   "nbconvert_exporter": "python",
   "pygments_lexer": "ipython3",
   "version": "3.7.12"
  }
 },
 "nbformat": 4,
 "nbformat_minor": 5
}
